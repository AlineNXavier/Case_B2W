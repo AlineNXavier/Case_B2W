{
 "cells": [
  {
   "cell_type": "code",
   "execution_count": 11,
   "metadata": {},
   "outputs": [],
   "source": [
    "from scipy import stats\n",
    "import matplotlib.pyplot as plt\n",
    "from scipy.stats import binom\n",
    "import numpy as np\n",
    "import pandas as pd\n",
    "from scipy.stats import ttest_ind\n"
   ]
  },
  {
   "cell_type": "code",
   "execution_count": 42,
   "metadata": {},
   "outputs": [],
   "source": [
    "# Lendo o Excel\n",
    "df = pd.ExcelFile('Prova ADV.xlsx')\n",
    "\n",
    "# Lendo as planilhas\n",
    "base1= pd.read_excel(df, 'BASE - Pergunta 1')\n"
   ]
  },
  {
   "cell_type": "markdown",
   "metadata": {},
   "source": [
    "### Cálculo Roi"
   ]
  },
  {
   "cell_type": "code",
   "execution_count": 66,
   "metadata": {},
   "outputs": [],
   "source": [
    "#Custo Frete\n",
    "base1['Custo_frete'] =   base1['Despesa de Frete'] - base1['Receita de Frete'] "
   ]
  },
  {
   "cell_type": "code",
   "execution_count": 67,
   "metadata": {},
   "outputs": [
    {
     "data": {
      "text/html": [
       "<div>\n",
       "<style scoped>\n",
       "    .dataframe tbody tr th:only-of-type {\n",
       "        vertical-align: middle;\n",
       "    }\n",
       "\n",
       "    .dataframe tbody tr th {\n",
       "        vertical-align: top;\n",
       "    }\n",
       "\n",
       "    .dataframe thead th {\n",
       "        text-align: right;\n",
       "    }\n",
       "</style>\n",
       "<table border=\"1\" class=\"dataframe\">\n",
       "  <thead>\n",
       "    <tr style=\"text-align: right;\">\n",
       "      <th></th>\n",
       "      <th></th>\n",
       "      <th>Receita de Produto</th>\n",
       "      <th>Receita de Frete</th>\n",
       "      <th>Despesa de Frete</th>\n",
       "      <th>Custo_frete</th>\n",
       "    </tr>\n",
       "    <tr>\n",
       "      <th>Grupo do Teste</th>\n",
       "      <th>Estado</th>\n",
       "      <th></th>\n",
       "      <th></th>\n",
       "      <th></th>\n",
       "      <th></th>\n",
       "    </tr>\n",
       "  </thead>\n",
       "  <tbody>\n",
       "    <tr>\n",
       "      <th rowspan=\"2\" valign=\"top\">A</th>\n",
       "      <th>RJ</th>\n",
       "      <td>860092.65</td>\n",
       "      <td>21677.54</td>\n",
       "      <td>21677.54</td>\n",
       "      <td>0.00</td>\n",
       "    </tr>\n",
       "    <tr>\n",
       "      <th>SP</th>\n",
       "      <td>1386543.09</td>\n",
       "      <td>28110.11</td>\n",
       "      <td>28110.11</td>\n",
       "      <td>0.00</td>\n",
       "    </tr>\n",
       "    <tr>\n",
       "      <th rowspan=\"2\" valign=\"top\">B</th>\n",
       "      <th>RJ</th>\n",
       "      <td>1118669.16</td>\n",
       "      <td>6603.39</td>\n",
       "      <td>24114.46</td>\n",
       "      <td>17511.07</td>\n",
       "    </tr>\n",
       "    <tr>\n",
       "      <th>SP</th>\n",
       "      <td>1597880.58</td>\n",
       "      <td>10449.54</td>\n",
       "      <td>32054.40</td>\n",
       "      <td>21604.86</td>\n",
       "    </tr>\n",
       "  </tbody>\n",
       "</table>\n",
       "</div>"
      ],
      "text/plain": [
       "                       Receita de Produto  Receita de Frete  Despesa de Frete  \\\n",
       "Grupo do Teste Estado                                                           \n",
       "A              RJ               860092.65          21677.54          21677.54   \n",
       "               SP              1386543.09          28110.11          28110.11   \n",
       "B              RJ              1118669.16           6603.39          24114.46   \n",
       "               SP              1597880.58          10449.54          32054.40   \n",
       "\n",
       "                       Custo_frete  \n",
       "Grupo do Teste Estado               \n",
       "A              RJ             0.00  \n",
       "               SP             0.00  \n",
       "B              RJ         17511.07  \n",
       "               SP         21604.86  "
      ]
     },
     "execution_count": 67,
     "metadata": {},
     "output_type": "execute_result"
    }
   ],
   "source": [
    "base_calculo = base1.groupby(['Grupo do Teste','Estado']).sum()\n",
    "base_calculo"
   ]
  },
  {
   "cell_type": "code",
   "execution_count": 68,
   "metadata": {},
   "outputs": [
    {
     "name": "stdout",
     "output_type": "stream",
     "text": [
      "ROI Rio de janeiro:  62.88354109714577\n",
      "ROI São Paulo:  72.95931193259271\n"
     ]
    }
   ],
   "source": [
    "ROI_RJ = (base_calculo.iloc[2,0] - base_calculo.iloc[2,3]) / base_calculo.iloc[2,3]\n",
    "print(\"ROI Rio de janeiro: \", ROI_RJ)\n",
    "\n",
    "ROI_SP = (base_calculo.iloc[3,0] - base_calculo.iloc[3,3]) / base_calculo.iloc[3,3]\n",
    "print(\"ROI São Paulo: \",ROI_SP)"
   ]
  },
  {
   "cell_type": "markdown",
   "metadata": {},
   "source": [
    "### Teste T"
   ]
  },
  {
   "cell_type": "code",
   "execution_count": 45,
   "metadata": {},
   "outputs": [
    {
     "name": "stdout",
     "output_type": "stream",
     "text": [
      "<class 'pandas.core.frame.DataFrame'>\n",
      "RangeIndex: 3220 entries, 0 to 3219\n",
      "Data columns (total 7 columns):\n",
      " #   Column              Non-Null Count  Dtype  \n",
      "---  ------              --------------  -----  \n",
      " 0   Grupo do Teste      3220 non-null   object \n",
      " 1   Estado              3220 non-null   object \n",
      " 2   Código Pedido       3220 non-null   object \n",
      " 3   Receita de Produto  3220 non-null   float64\n",
      " 4   Receita de Frete    3220 non-null   float64\n",
      " 5   Despesa de Frete    3220 non-null   float64\n",
      " 6   Custo_frete         3220 non-null   float64\n",
      "dtypes: float64(4), object(3)\n",
      "memory usage: 176.2+ KB\n"
     ]
    }
   ],
   "source": [
    "base1.info()"
   ]
  },
  {
   "cell_type": "code",
   "execution_count": 57,
   "metadata": {},
   "outputs": [],
   "source": [
    "#Separando os estados\n",
    "estado_sp = base1[base1[\"Estado\"] == \"SP\"]\n",
    "estado_rj = base1[base1[\"Estado\"] == \"RJ\"]"
   ]
  },
  {
   "cell_type": "markdown",
   "metadata": {},
   "source": [
    "Cálculo das taxas de conversão para cada estado e grupo"
   ]
  },
  {
   "cell_type": "code",
   "execution_count": 73,
   "metadata": {},
   "outputs": [
    {
     "name": "stdout",
     "output_type": "stream",
     "text": [
      "Taxa SP, grupo A:  2.124110320284698   grupo B:  2.3265124555160144\n"
     ]
    }
   ],
   "source": [
    "tx_sp_a, tx_sp_b = conv_a_sp/populacao_sp, conv_b_sp/populacao_sp\n",
    "\n",
    "print(\"Taxa SP, grupo A: \", tx_sp_a*100, \"  grupo B: \",tx_sp_b*100 )"
   ]
  },
  {
   "cell_type": "code",
   "execution_count": 74,
   "metadata": {},
   "outputs": [
    {
     "name": "stdout",
     "output_type": "stream",
     "text": [
      "Taxa RJ, grupo A:  2.100271002710027   grupo B:  2.4879554351099067\n"
     ]
    }
   ],
   "source": [
    "tx_rj_a, tx_rj_b = conv_a_rj/populacao_rj, conv_b_rj/populacao_rj\n",
    "\n",
    "print(\"Taxa RJ, grupo A: \", tx_rj_a*100, \"  grupo B: \",tx_rj_b*100 )"
   ]
  },
  {
   "cell_type": "code",
   "execution_count": 76,
   "metadata": {},
   "outputs": [],
   "source": [
    "#Populão do estudo em SP\n",
    "populacao_sp = 44960\n",
    "\n",
    "#Quantidade de individuos para cada grupo\n",
    "conv_a_sp, conv_b_sp = estado_sp['Grupo do Teste'].value_counts()[1], estado_sp['Grupo do Teste'].value_counts()[0]"
   ]
  },
  {
   "cell_type": "code",
   "execution_count": 77,
   "metadata": {},
   "outputs": [],
   "source": [
    "#Populão do estudo no RJ\n",
    "populacao_rj = 26568\n",
    "\n",
    "#Quantidade de individuos para cada grupo\n",
    "conv_a_rj, conv_b_rj = estado_rj['Grupo do Teste'].value_counts()[1], estado_rj['Grupo do Teste'].value_counts()[0]"
   ]
  },
  {
   "cell_type": "code",
   "execution_count": 79,
   "metadata": {},
   "outputs": [],
   "source": [
    "#Função que faz o teste t\n",
    "\n",
    "def t_test(populacao, con_a, conv_b):\n",
    "\n",
    "    a_dist = np.zeros(populacao)\n",
    "    a_dist[:con_a] = 1\n",
    "    b_dist = np.zeros(populacao)\n",
    "    b_dist[:conv_b] = 1\n",
    "\n",
    "    zscore, prob = ttest_ind(a_dist, b_dist, equal_var=False)\n",
    "    \n",
    "    return zscore, prob\n",
    "    \n",
    "    "
   ]
  },
  {
   "cell_type": "code",
   "execution_count": 81,
   "metadata": {},
   "outputs": [
    {
     "name": "stdout",
     "output_type": "stream",
     "text": [
      "Teste t SP, z-score:  -2.0573587072939015 \t p-valor:  0.03965461680635382\n"
     ]
    }
   ],
   "source": [
    "z_sp, p_sp = t_test(populacao_sp, conv_a_sp, conv_b_sp)\n",
    "\n",
    "print(\"Teste t SP, z-score: \", z_sp, \"\\t p-valor: \", p_sp)\n"
   ]
  },
  {
   "cell_type": "code",
   "execution_count": 82,
   "metadata": {},
   "outputs": [
    {
     "name": "stdout",
     "output_type": "stream",
     "text": [
      "Teste t SP, z-score:  -2.984717537008126 \t p-valor:  0.002839702990437521\n"
     ]
    }
   ],
   "source": [
    "z_rj, p_rj  = t_test(populacao_rj, conv_a_rj, conv_b_rj)\n",
    "\n",
    "print(\"Teste t SP, z-score: \", z_rj, \"\\t p-valor: \", p_rj)"
   ]
  },
  {
   "cell_type": "markdown",
   "metadata": {},
   "source": [
    "#### Foi definido no início desse estudo um nível de confiança de 95%, por tanto nosso delimitador para o p-valor é de 0,05. Como em ambos os resultados o p-valor foi menor que esse delimitador podemos concluir que as políticas são estatisticamente significativas."
   ]
  }
 ],
 "metadata": {
  "kernelspec": {
   "display_name": "Python 3",
   "language": "python",
   "name": "python3"
  },
  "language_info": {
   "codemirror_mode": {
    "name": "ipython",
    "version": 3
   },
   "file_extension": ".py",
   "mimetype": "text/x-python",
   "name": "python",
   "nbconvert_exporter": "python",
   "pygments_lexer": "ipython3",
   "version": "3.8.1"
  }
 },
 "nbformat": 4,
 "nbformat_minor": 4
}
